{
  "nbformat": 4,
  "nbformat_minor": 0,
  "metadata": {
    "colab": {
      "provenance": []
    },
    "kernelspec": {
      "name": "python3",
      "display_name": "Python 3"
    },
    "language_info": {
      "name": "python"
    }
  },
  "cells": [
    {
      "cell_type": "code",
      "execution_count": null,
      "metadata": {
        "id": "sGG6JnIoCIZi"
      },
      "outputs": [],
      "source": [
        "# Release 2: Validation Rules in Python\n",
        "\n",
        "def validate_txn_schema(txn):\n",
        "    required_keys = {'user_id', 'type', 'source', 'amount', 'currency'}\n",
        "    assert required_keys.issubset(txn.keys()), f\"Missing keys: {required_keys - txn.keys()}\"\n",
        "\n",
        "\n",
        "def is_mana_recharge_valid(balance, capacity, recharge_amount):\n",
        "    return balance + recharge_amount <= capacity\n",
        "\n",
        "\n",
        "def check_real_money_txn_duplicates(txns):\n",
        "    seen = set()\n",
        "    valid = []\n",
        "    for txn in txns:\n",
        "        txn_id = txn['details'].get('pg_txn_id')\n",
        "        if txn_id in seen:\n",
        "            continue  # duplicate\n",
        "        seen.add(txn_id)\n",
        "        valid.append(txn)\n",
        "    return valid"
      ]
    }
  ]
}